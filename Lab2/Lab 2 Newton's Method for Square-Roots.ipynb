{
 "cells": [
  {
   "cell_type": "code",
   "execution_count": 26,
   "id": "a6a6dc83",
   "metadata": {},
   "outputs": [
    {
     "name": "stdout",
     "output_type": "stream",
     "text": [
      "(35.81898937714463, 6)\n"
     ]
    }
   ],
   "source": [
    "# Dana Hughes ISC 3222\n",
    "# Lab 2: Newton's Method for Square-Roots\n",
    "\n",
    "import numpy as np\n",
    "\n",
    "# initial values\n",
    "a = 1283\n",
    "x0 = 120\n",
    "\n",
    "# this is where the function will accept a and an initial guess\n",
    "def squareRoot(a, x0):\n",
    "    tol = 1e-4 # tolerance\n",
    "    stepSize = 100\n",
    "    # setting necessary variables for formula\n",
    "    i = 0\n",
    "    xn = x0\n",
    "    # once the step size is less than the given tol, the series is complete\n",
    "    while stepSize > tol:\n",
    "        # calculate the next value of x in series\n",
    "        xn1 = xn - f(xn, a) / fPrime(xn)\n",
    "        # update the current step size\n",
    "        stepSize = np.abs(xn - xn1)\n",
    "        i = i + 1\n",
    "        # update xn to the next value in the series\n",
    "        xn = xn1\n",
    "    return xn1, i\n",
    "\n",
    "# assigned function for f(x)\n",
    "def f(x, a):\n",
    "    value = x**2 - a\n",
    "    return value\n",
    "\n",
    "# assigned function for f'(x)\n",
    "def fPrime(x):\n",
    "    value = 2 * x\n",
    "    return value\n",
    "\n",
    "# display answer\n",
    "print(squareRoot(a, x0))"
   ]
  },
  {
   "cell_type": "code",
   "execution_count": null,
   "id": "2ae61938",
   "metadata": {},
   "outputs": [],
   "source": []
  }
 ],
 "metadata": {
  "kernelspec": {
   "display_name": "Python 3.8.8 ('base')",
   "language": "python",
   "name": "python3"
  },
  "language_info": {
   "codemirror_mode": {
    "name": "ipython",
    "version": 3
   },
   "file_extension": ".py",
   "mimetype": "text/x-python",
   "name": "python",
   "nbconvert_exporter": "python",
   "pygments_lexer": "ipython3",
   "version": "3.8.8"
  },
  "vscode": {
   "interpreter": {
    "hash": "e09110670e6c667630e41e12cd979b9aa1d79791708d496167df90ca14bf71ee"
   }
  }
 },
 "nbformat": 4,
 "nbformat_minor": 5
}
